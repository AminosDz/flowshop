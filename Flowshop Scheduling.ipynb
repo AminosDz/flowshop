{
 "cells": [
  {
   "cell_type": "code",
   "execution_count": 1,
   "metadata": {
    "ExecuteTime": {
     "end_time": "2019-06-10T15:42:36.389672Z",
     "start_time": "2019-06-10T15:42:36.380027Z"
    }
   },
   "outputs": [],
   "source": [
    "import numpy as np"
   ]
  },
  {
   "cell_type": "code",
   "execution_count": 8,
   "metadata": {
    "ExecuteTime": {
     "end_time": "2019-06-10T15:45:23.906895Z",
     "start_time": "2019-06-10T15:45:23.893657Z"
    }
   },
   "outputs": [],
   "source": [
    "def johnson2M(jobMatrix):\n",
    "    nb_machine, nb_jobs = jobMatrix.shape\n",
    "    jobMatrix = np.vstack((jobMatrix,list(range(nb_jobs))))\n",
    "\n",
    "    jobOrder = [0] * nb_jobs\n",
    "    idxJob1, idxJob2 = (0, nb_jobs-1)\n",
    "\n",
    "    for _ in range(nb_jobs):\n",
    "        idx = jobMatrix.argmin(axis=1)\n",
    "\n",
    "        if (jobMatrix[0,idx[0]]<jobMatrix[1,idx[1]]):\n",
    "            jobOrder[idxJob1] = int(jobMatrix[2,idx[0]])\n",
    "            idxJob1 += 1\n",
    "            jobMatrix = np.delete(jobMatrix,idx[0],1)\n",
    "        else:\n",
    "            jobOrder[idxJob2] = int(jobMatrix[2,idx[1]])\n",
    "            idxJob2 -= 1\n",
    "            jobMatrix = np.delete(jobMatrix,idx[1],1)\n",
    "    \n",
    "    return jobOrder"
   ]
  },
  {
   "cell_type": "code",
   "execution_count": 9,
   "metadata": {
    "ExecuteTime": {
     "end_time": "2019-06-10T15:45:25.002140Z",
     "start_time": "2019-06-10T15:45:24.995021Z"
    }
   },
   "outputs": [
    {
     "data": {
      "text/plain": [
       "[2, 7, 4, 3, 1, 5, 6, 0]"
      ]
     },
     "execution_count": 9,
     "metadata": {},
     "output_type": "execute_result"
    }
   ],
   "source": [
    "jobMatrix = np.loadtxt(fname='jobMatrix.txt')\n",
    "\n",
    "jobOrder = johnson2M(jobMatrix)\n",
    "jobOrder"
   ]
  },
  {
   "cell_type": "code",
   "execution_count": 10,
   "metadata": {
    "ExecuteTime": {
     "end_time": "2019-06-10T15:45:27.832780Z",
     "start_time": "2019-06-10T15:45:27.824311Z"
    }
   },
   "outputs": [],
   "source": [
    "def makeGanttTable(jobMatrix,jobOrder):\n",
    "    nb_machine, nb_jobs = jobMatrix.shape\n",
    "    ganttTable = np.zeros((nb_jobs,4))\n",
    "    ganttTable[0,0] = 0\n",
    "    ganttTable[0,1] = jobMatrix[0,jobOrder[0]]\n",
    "    ganttTable[0,2] = jobMatrix[0,jobOrder[0]]\n",
    "    ganttTable[0,3] = jobMatrix[0,jobOrder[0]] + jobMatrix[1,jobOrder[0]]\n",
    "    for i in range(1,nb_jobs):\n",
    "        for j in range(0,nb_machine):\n",
    "            ganttTable[i,2*j] = ganttTable[i-1,1]\n",
    "            ganttTable[i,1] = ganttTable[i,0] + jobMatrix[0,jobOrder[i]]\n",
    "            ganttTable[i,2] = max(ganttTable[i-1,3],ganttTable[i,1])\n",
    "            ganttTable[i,3] = ganttTable[i,2] + jobMatrix[1,jobOrder[i]]\n",
    "\n",
    "    return ganttTable\n"
   ]
  },
  {
   "cell_type": "code",
   "execution_count": 11,
   "metadata": {
    "ExecuteTime": {
     "end_time": "2019-06-10T15:45:29.229836Z",
     "start_time": "2019-06-10T15:45:29.219425Z"
    }
   },
   "outputs": [
    {
     "data": {
      "text/plain": [
       "array([[  0.,   8.,   8.,  21.],\n",
       "       [  8.,  17.,  21.,  36.],\n",
       "       [ 17.,  28.,  36.,  50.],\n",
       "       [ 28.,  55.,  55.,  75.],\n",
       "       [ 55.,  87.,  87., 106.],\n",
       "       [ 87., 103., 106., 113.],\n",
       "       [103., 116., 116., 122.],\n",
       "       [116., 131., 131., 137.]])"
      ]
     },
     "execution_count": 11,
     "metadata": {},
     "output_type": "execute_result"
    }
   ],
   "source": [
    "makeGanttTable(jobMatrix,jobOrder)"
   ]
  },
  {
   "cell_type": "code",
   "execution_count": 12,
   "metadata": {
    "ExecuteTime": {
     "end_time": "2019-06-10T15:45:30.460630Z",
     "start_time": "2019-06-10T15:45:30.455445Z"
    }
   },
   "outputs": [],
   "source": [
    "def makespan(jobMatrix,jobOrder):\n",
    "    return makeGanttTable(jobMatrix,jobOrder)[-1,-1]"
   ]
  },
  {
   "cell_type": "code",
   "execution_count": 13,
   "metadata": {
    "ExecuteTime": {
     "end_time": "2019-06-10T15:45:32.272801Z",
     "start_time": "2019-06-10T15:45:32.265003Z"
    }
   },
   "outputs": [
    {
     "data": {
      "text/plain": [
       "137.0"
      ]
     },
     "execution_count": 13,
     "metadata": {},
     "output_type": "execute_result"
    }
   ],
   "source": [
    "makespan(jobMatrix,jobOrder)"
   ]
  },
  {
   "cell_type": "code",
   "execution_count": 14,
   "metadata": {
    "ExecuteTime": {
     "end_time": "2019-06-10T15:45:34.454691Z",
     "start_time": "2019-06-10T15:45:34.441917Z"
    }
   },
   "outputs": [],
   "source": [
    "def neh(jobMatrix):\n",
    "    nb_machine, nb_jobs = jobMatrix.shape\n",
    "    jobs_with_total_times = [(job_id, sum(job)) for job_id, job in enumerate(jobMatrix.T)]\n",
    "    order = []\n",
    "    for job in sorted(jobs_with_total_times, key=lambda x: x[1], reverse = True):\n",
    "        candidates = []\n",
    "        for i in range(0, len(order) + 1):\n",
    "            candidate = order[:i] + [job[0]] + order[i:]\n",
    "            candidates.append((candidate, makespan(jobMatrix,candidate)))\n",
    "        order = min(candidates, key = lambda x: x[1])[0]\n",
    "    return order"
   ]
  },
  {
   "cell_type": "code",
   "execution_count": 15,
   "metadata": {
    "ExecuteTime": {
     "end_time": "2019-06-10T15:45:35.382033Z",
     "start_time": "2019-06-10T15:45:35.373446Z"
    }
   },
   "outputs": [
    {
     "data": {
      "text/plain": [
       "137.0"
      ]
     },
     "execution_count": 15,
     "metadata": {},
     "output_type": "execute_result"
    }
   ],
   "source": [
    "jobOrder = neh(jobMatrix)\n",
    "makespan(jobMatrix,jobOrder)"
   ]
  },
  {
   "cell_type": "code",
   "execution_count": 16,
   "metadata": {
    "ExecuteTime": {
     "end_time": "2019-06-10T15:45:36.171815Z",
     "start_time": "2019-06-10T15:45:36.164370Z"
    }
   },
   "outputs": [],
   "source": [
    "from itertools import permutations\n",
    "\n",
    "def optimal(jobMatrix):\n",
    "    nb_machine, nb_jobs = jobMatrix.shape\n",
    "    return min(permutations(range(nb_jobs)),key = lambda x: makespan(jobMatrix,x))"
   ]
  },
  {
   "cell_type": "code",
   "execution_count": 22,
   "metadata": {
    "ExecuteTime": {
     "end_time": "2019-06-10T15:48:36.294458Z",
     "start_time": "2019-06-10T15:48:35.611737Z"
    }
   },
   "outputs": [
    {
     "name": "stdout",
     "output_type": "stream",
     "text": [
      "[[15. 32.  8. 27. 11. 16. 13.  9.]\n",
      " [ 6. 19. 13. 20. 14.  7.  6. 15.]\n",
      " [ 7. 21.  9. 35. 12.  8. 15. 13.]]\n",
      "[[  0.  15.  15.  21.]\n",
      " [ 15.  23.  23.  36.]\n",
      " [ 23.  55.  55.  74.]\n",
      " [ 55.  66.  74.  88.]\n",
      " [ 66.  75.  88. 103.]\n",
      " [ 75. 102. 103. 123.]\n",
      " [102. 118. 123. 130.]\n",
      " [118. 131. 131. 137.]]\n"
     ]
    },
    {
     "data": {
      "text/plain": [
       "137.0"
      ]
     },
     "execution_count": 22,
     "metadata": {},
     "output_type": "execute_result"
    }
   ],
   "source": [
    "jobMatrix = np.loadtxt(fname='jobMatrix.txt')\n",
    "\n",
    "print(jobMatrix)\n",
    "\n",
    "jobOrder = optimal(jobMatrix)\n",
    "gantt = makeGanttTable(jobMatrix,jobOrder)\n",
    "print(gantt)\n",
    "makespan(jobMatrix,jobOrder)"
   ]
  },
  {
   "cell_type": "markdown",
   "metadata": {},
   "source": [
    "# Gantt"
   ]
  },
  {
   "cell_type": "code",
   "execution_count": 177,
   "metadata": {
    "ExecuteTime": {
     "end_time": "2019-06-10T15:40:53.640414Z",
     "start_time": "2019-06-10T15:40:53.627837Z"
    }
   },
   "outputs": [],
   "source": [
    "import matplotlib.pyplot as plt\n",
    "\n",
    "def plotGantt(jobMatrix,jobOrder):\n",
    "    fig, ax = plt.subplots()\n",
    "\n",
    "    nb_machine, nb_jobs = jobMatrix.shape\n",
    "    ganttTable = makeGanttTable(jobMatrix,jobOrder)\n",
    "\n",
    "    for i in range(nb_jobs):\n",
    "        ax.broken_barh([(ganttTable[i,0], ganttTable[i,1]-ganttTable[i,0]), (ganttTable[i,2], ganttTable[i,3]-ganttTable[i,2])], (10*i, 10), facecolors=('red', 'yellow'))\n",
    "\n",
    "    ax.set_ylim(-10, 75)\n",
    "    ax.set_xlim(0, 150)\n",
    "    ax.set_xlabel('Temps')\n",
    "    ax.set_yticks([0,10,20, 30,40,50,60,70])\n",
    "    ax.set_yticklabels([\"Task1\",\"Task1\",\"Task1\",\"Task1\",\"Task1\",\"Task1\",\"Task1\"])\n",
    "    ax.grid(True)\n",
    "    plt.savefig(fname=\"gantt.png\")\n",
    "    plt.show()\n"
   ]
  },
  {
   "cell_type": "code",
   "execution_count": 178,
   "metadata": {
    "ExecuteTime": {
     "end_time": "2019-06-10T15:40:56.767615Z",
     "start_time": "2019-06-10T15:40:56.369613Z"
    }
   },
   "outputs": [
    {
     "data": {
      "image/png": "[encoded data removed]",
      "text/plain": [
       "<Figure size 432x288 with 1 Axes>"
      ]
     },
     "metadata": {
      "needs_background": "light"
     },
     "output_type": "display_data"
    }
   ],
   "source": [
    "plotGantt(jobMatrix,jobOrder)"
   ]
  },
  {
   "cell_type": "code",
   "execution_count": null,
   "metadata": {},
   "outputs": [],
   "source": []
  }
 ],
 "metadata": {
  "kernelspec": {
   "display_name": "Python 3",
   "language": "python",
   "name": "python3"
  },
  "language_info": {
   "codemirror_mode": {
    "name": "ipython",
    "version": 3
   },
   "file_extension": ".py",
   "mimetype": "text/x-python",
   "name": "python",
   "nbconvert_exporter": "python",
   "pygments_lexer": "ipython3",
   "version": "3.7.2"
  },
  "varInspector": {
   "cols": {
    "lenName": 16,
    "lenType": 16,
    "lenVar": 40
   },
   "kernels_config": {
    "python": {
     "delete_cmd_postfix": "",
     "delete_cmd_prefix": "del ",
     "library": "var_list.py",
     "varRefreshCmd": "print(var_dic_list())"
    },
    "r": {
     "delete_cmd_postfix": ") ",
     "delete_cmd_prefix": "rm(",
     "library": "var_list.r",
     "varRefreshCmd": "cat(var_dic_list()) "
    }
   },
   "position": {
    "height": "181px",
    "left": "996px",
    "right": "20px",
    "top": "120px",
    "width": "350px"
   },
   "types_to_exclude": [
    "module",
    "function",
    "builtin_function_or_method",
    "instance",
    "_Feature"
   ],
   "window_display": false
  }
 },
 "nbformat": 4,
 "nbformat_minor": 2
}
