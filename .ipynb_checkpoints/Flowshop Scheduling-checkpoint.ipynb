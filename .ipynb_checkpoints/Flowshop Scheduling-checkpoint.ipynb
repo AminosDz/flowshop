{
 "cells": [
  {
   "cell_type": "code",
   "execution_count": 1,
   "metadata": {
    "ExecuteTime": {
     "end_time": "2019-06-10T23:13:08.547375Z",
     "start_time": "2019-06-10T23:13:08.543073Z"
    }
   },
   "outputs": [],
   "source": [
    "import numpy as np"
   ]
  },
  {
   "cell_type": "code",
   "execution_count": 2,
   "metadata": {
    "ExecuteTime": {
     "end_time": "2019-06-10T23:13:09.149913Z",
     "start_time": "2019-06-10T23:13:09.131521Z"
    }
   },
   "outputs": [],
   "source": [
    "def johnson2M(jobMatrix):\n",
    "    nb_machine, nb_jobs = jobMatrix.shape\n",
    "    jobMatrix = np.vstack((jobMatrix,list(range(nb_jobs))))\n",
    "\n",
    "    jobOrder = [0] * nb_jobs\n",
    "    idxJob1, idxJob2 = (0, nb_jobs-1)\n",
    "\n",
    "    for _ in range(nb_jobs):\n",
    "        idx = jobMatrix.argmin(axis=1)\n",
    "\n",
    "        if (jobMatrix[0,idx[0]]<jobMatrix[1,idx[1]]):\n",
    "            jobOrder[idxJob1] = int(jobMatrix[2,idx[0]])\n",
    "            idxJob1 += 1\n",
    "            jobMatrix = np.delete(jobMatrix,idx[0],1)\n",
    "        else:\n",
    "            jobOrder[idxJob2] = int(jobMatrix[2,idx[1]])\n",
    "            idxJob2 -= 1\n",
    "            jobMatrix = np.delete(jobMatrix,idx[1],1)\n",
    "    \n",
    "    return jobOrder"
   ]
  },
  {
   "cell_type": "code",
   "execution_count": 3,
   "metadata": {
    "ExecuteTime": {
     "end_time": "2019-06-10T23:13:09.854092Z",
     "start_time": "2019-06-10T23:13:09.844449Z"
    }
   },
   "outputs": [],
   "source": [
    "def makeGanttTable(jobMatrix,jobOrder):\n",
    "    nb_machine, _ = jobMatrix.shape\n",
    "    nb_jobs = len(jobOrder)\n",
    "    ganttTable = np.zeros((nb_jobs,nb_machine*2))\n",
    "    \"\"\"ganttTable[0,0] = 0\n",
    "    ganttTable[0,1] = jobMatrix[0,jobOrder[0]]\n",
    "    ganttTable[0,2] = jobMatrix[0,jobOrder[0]]\n",
    "    ganttTable[0,3] = jobMatrix[0,jobOrder[0]] + jobMatrix[1,jobOrder[0]]\"\"\"\n",
    "    for i in range(0,nb_jobs):\n",
    "        for j in range(0,nb_machine):\n",
    "            ganttTable[i,2*j] = max(ganttTable[i-1,2*j+1],ganttTable[i,2*j-1])# Start of the job \"i\" in machine \"j\"\n",
    "            ganttTable[i,2*j+1] = ganttTable[i,2*j] + jobMatrix[j,jobOrder[i]] # End of the job \"i\" in machine \"j\"\n",
    "            \n",
    "    return ganttTable\n"
   ]
  },
  {
   "cell_type": "code",
   "execution_count": 4,
   "metadata": {
    "ExecuteTime": {
     "end_time": "2019-06-10T23:13:10.556976Z",
     "start_time": "2019-06-10T23:13:10.552556Z"
    }
   },
   "outputs": [],
   "source": [
    "def makespan(jobMatrix,jobOrder):\n",
    "    return makeGanttTable(jobMatrix,jobOrder)[-1,-1]"
   ]
  },
  {
   "cell_type": "code",
   "execution_count": 5,
   "metadata": {
    "ExecuteTime": {
     "end_time": "2019-06-10T23:13:11.359730Z",
     "start_time": "2019-06-10T23:13:11.348061Z"
    }
   },
   "outputs": [],
   "source": [
    "def neh(jobMatrix):\n",
    "    nb_machine, nb_jobs = jobMatrix.shape\n",
    "    jobs_with_total_times = [(job_id, sum(job)) for job_id, job in enumerate(jobMatrix.T)]\n",
    "    order = []\n",
    "    for job in sorted(jobs_with_total_times, key=lambda x: x[1], reverse = True):\n",
    "        candidates = []\n",
    "        for i in range(0, len(order) + 1):\n",
    "            candidate = order[:i] + [job[0]] + order[i:]\n",
    "            candidates.append((candidate, makespan(jobMatrix,candidate)))\n",
    "        order = min(candidates, key = lambda x: x[1])[0]\n",
    "    return order"
   ]
  },
  {
   "cell_type": "code",
   "execution_count": 6,
   "metadata": {
    "ExecuteTime": {
     "end_time": "2019-06-10T23:13:12.276429Z",
     "start_time": "2019-06-10T23:13:12.270876Z"
    }
   },
   "outputs": [],
   "source": [
    "from itertools import permutations\n",
    "\n",
    "def optimal(jobMatrix):\n",
    "    nb_machine, nb_jobs = jobMatrix.shape\n",
    "    return min(permutations(range(nb_jobs)),key = lambda x: makespan(jobMatrix,x))"
   ]
  },
  {
   "cell_type": "markdown",
   "metadata": {},
   "source": [
    "# Johnson 2 Machines :"
   ]
  },
  {
   "cell_type": "code",
   "execution_count": 7,
   "metadata": {
    "ExecuteTime": {
     "end_time": "2019-06-10T23:13:18.648759Z",
     "start_time": "2019-06-10T23:13:18.640908Z"
    }
   },
   "outputs": [
    {
     "name": "stdout",
     "output_type": "stream",
     "text": [
      "[2, 4, 3, 1, 5, 0]\n"
     ]
    }
   ],
   "source": [
    "jobMatrix = np.loadtxt(fname='jobMatrix.txt')\n",
    "\n",
    "jobOrder = johnson2M(jobMatrix)\n",
    "print(jobOrder)"
   ]
  },
  {
   "cell_type": "code",
   "execution_count": 8,
   "metadata": {
    "ExecuteTime": {
     "end_time": "2019-06-10T23:13:20.449944Z",
     "start_time": "2019-06-10T23:13:20.432799Z"
    }
   },
   "outputs": [
    {
     "data": {
      "text/plain": [
       "array([[  0.,   8.,   8.,  21.],\n",
       "       [  8.,  19.,  21.,  35.],\n",
       "       [ 19.,  46.,  46.,  66.],\n",
       "       [ 46.,  78.,  78.,  97.],\n",
       "       [ 78.,  94.,  97., 104.],\n",
       "       [ 94., 109., 109., 115.]])"
      ]
     },
     "execution_count": 8,
     "metadata": {},
     "output_type": "execute_result"
    }
   ],
   "source": [
    "makeGanttTable(jobMatrix,jobOrder)"
   ]
  },
  {
   "cell_type": "code",
   "execution_count": 9,
   "metadata": {
    "ExecuteTime": {
     "end_time": "2019-06-10T23:13:21.471246Z",
     "start_time": "2019-06-10T23:13:21.458678Z"
    }
   },
   "outputs": [
    {
     "data": {
      "text/plain": [
       "115.0"
      ]
     },
     "execution_count": 9,
     "metadata": {},
     "output_type": "execute_result"
    }
   ],
   "source": [
    "makespan(jobMatrix,jobOrder)"
   ]
  },
  {
   "cell_type": "markdown",
   "metadata": {},
   "source": [
    "# NEH Algorithm"
   ]
  },
  {
   "cell_type": "code",
   "execution_count": 10,
   "metadata": {
    "ExecuteTime": {
     "end_time": "2019-06-10T23:13:48.917278Z",
     "start_time": "2019-06-10T23:13:48.905859Z"
    }
   },
   "outputs": [
    {
     "name": "stdout",
     "output_type": "stream",
     "text": [
      "[7, 0, 4, 8, 2, 10, 3, 6, 5, 1, 9]\n"
     ]
    }
   ],
   "source": [
    "jobMatrix = np.loadtxt(fname='jobMatrix2.txt').T\n",
    "\n",
    "jobOrder = neh(jobMatrix)\n",
    "print(jobOrder)\n"
   ]
  },
  {
   "cell_type": "code",
   "execution_count": 11,
   "metadata": {
    "ExecuteTime": {
     "end_time": "2019-06-10T23:13:51.353999Z",
     "start_time": "2019-06-10T23:13:51.341683Z"
    }
   },
   "outputs": [
    {
     "data": {
      "text/plain": [
       "array([[   0.,   14.,   14.,  138.,  138.,  352.,  352.,  895.,  895.,\n",
       "        1680.],\n",
       "       [  14.,  389.,  389.,  401.,  401.,  543.,  895., 1140., 1680.,\n",
       "        2092.],\n",
       "       [ 389.,  917.,  917., 1018., 1018., 1807., 1807., 1931., 2092.,\n",
       "        3091.],\n",
       "       [ 917., 1174., 1174., 1701., 1807., 2560., 2560., 2770., 3091.,\n",
       "        3554.],\n",
       "       [1174., 1186., 1701., 2577., 2577., 2701., 2770., 3304., 3554.,\n",
       "        4319.],\n",
       "       [1186., 1718., 2577., 2879., 2879., 3380., 3380., 4145., 4319.,\n",
       "        5307.],\n",
       "       [1718., 2178., 2879., 3421., 3421., 3944., 4145., 4265., 5307.,\n",
       "        5806.],\n",
       "       [2178., 2710., 3421., 3651., 3944., 4487., 4487., 5383., 5806.,\n",
       "        6258.],\n",
       "       [2710., 3506., 3651., 3896., 4487., 5119., 5383., 5758., 6258.,\n",
       "        6381.],\n",
       "       [3506., 4138., 4138., 4590., 5119., 5877., 5877., 6155., 6381.,\n",
       "        6779.],\n",
       "       [4138., 5034., 5034., 5930., 5930., 6144., 6155., 6413., 6779.,\n",
       "        7038.]])"
      ]
     },
     "execution_count": 11,
     "metadata": {},
     "output_type": "execute_result"
    }
   ],
   "source": [
    "makeGanttTable(jobMatrix,jobOrder)"
   ]
  },
  {
   "cell_type": "code",
   "execution_count": 12,
   "metadata": {
    "ExecuteTime": {
     "end_time": "2019-06-10T23:13:54.442605Z",
     "start_time": "2019-06-10T23:13:54.436506Z"
    }
   },
   "outputs": [
    {
     "data": {
      "text/plain": [
       "7038.0"
      ]
     },
     "execution_count": 12,
     "metadata": {},
     "output_type": "execute_result"
    }
   ],
   "source": [
    "makespan(jobMatrix,jobOrder)"
   ]
  },
  {
   "cell_type": "markdown",
   "metadata": {},
   "source": [
    "# Optimal Algorithm"
   ]
  },
  {
   "cell_type": "code",
   "execution_count": 20,
   "metadata": {
    "ExecuteTime": {
     "end_time": "2019-06-10T23:21:07.246543Z",
     "start_time": "2019-06-10T23:21:07.174268Z"
    }
   },
   "outputs": [
    {
     "name": "stdout",
     "output_type": "stream",
     "text": [
      "(1, 2, 3, 4, 5, 0)\n"
     ]
    }
   ],
   "source": [
    "jobMatrix = np.loadtxt(fname='jobMatrix3.txt')\n",
    "\n",
    "jobOrder = optimal(jobMatrix)\n",
    "print(jobOrder)"
   ]
  },
  {
   "cell_type": "code",
   "execution_count": 21,
   "metadata": {
    "ExecuteTime": {
     "end_time": "2019-06-10T23:21:07.825180Z",
     "start_time": "2019-06-10T23:21:07.814639Z"
    }
   },
   "outputs": [
    {
     "data": {
      "text/plain": [
       "array([[  0.,  32.,  32.,  51.,  51.,  83.,  83., 102.],\n",
       "       [ 32.,  40.,  51.,  64.,  83.,  91., 102., 115.],\n",
       "       [ 40.,  67.,  67.,  87.,  91., 118., 118., 138.],\n",
       "       [ 67.,  78.,  87., 101., 118., 129., 138., 152.],\n",
       "       [ 78.,  94., 101., 108., 129., 145., 152., 159.],\n",
       "       [ 94., 109., 109., 115., 145., 160., 160., 166.]])"
      ]
     },
     "execution_count": 21,
     "metadata": {},
     "output_type": "execute_result"
    }
   ],
   "source": [
    "makeGanttTable(jobMatrix,jobOrder)"
   ]
  },
  {
   "cell_type": "code",
   "execution_count": 22,
   "metadata": {
    "ExecuteTime": {
     "end_time": "2019-06-10T23:21:09.399152Z",
     "start_time": "2019-06-10T23:21:09.392827Z"
    }
   },
   "outputs": [
    {
     "data": {
      "text/plain": [
       "166.0"
      ]
     },
     "execution_count": 22,
     "metadata": {},
     "output_type": "execute_result"
    }
   ],
   "source": [
    "makespan(jobMatrix,jobOrder)"
   ]
  },
  {
   "cell_type": "markdown",
   "metadata": {},
   "source": [
    "# Gantt"
   ]
  },
  {
   "cell_type": "code",
   "execution_count": 23,
   "metadata": {
    "ExecuteTime": {
     "end_time": "2019-06-10T23:21:17.140252Z",
     "start_time": "2019-06-10T23:21:16.870271Z"
    }
   },
   "outputs": [],
   "source": [
    "import matplotlib.pyplot as plt\n",
    "\n",
    "def plotGantt(jobMatrix,jobOrder):\n",
    "    fig, ax = plt.subplots()\n",
    "\n",
    "    nb_machine, nb_jobs = jobMatrix.shape\n",
    "    ganttTable = makeGanttTable(jobMatrix,jobOrder)\n",
    "    makespan_val = ganttTable[-1,-1]\n",
    "    for i in range(nb_jobs):\n",
    "        ax.broken_barh([(ganttTable[i,0], ganttTable[i,1]-ganttTable[i,0]), (ganttTable[i,2], ganttTable[i,3]-ganttTable[i,2])], (10*i, 10), facecolors=('red', 'yellow'))\n",
    "\n",
    "    ax.set_ylim(-10, 75)\n",
    "    ax.set_xlim(0, 8000)\n",
    "    ax.set_xlabel('Temps')\n",
    "    ax.set_yticks([0,10,20, 30,40,50,60,70])\n",
    "    ax.set_yticklabels([\"Task1\",\"Task1\",\"Task1\",\"Task1\",\"Task1\",\"Task1\",\"Task1\"])\n",
    "    ax.grid(True)\n",
    "    plt.savefig(fname=\"gantt.png\")\n",
    "    plt.show()\n"
   ]
  },
  {
   "cell_type": "code",
   "execution_count": 24,
   "metadata": {
    "ExecuteTime": {
     "end_time": "2019-06-10T23:21:17.783468Z",
     "start_time": "2019-06-10T23:21:17.555252Z"
    }
   },
   "outputs": [
    {
     "data": {
      "image/png": "[encoded data removed]",
      "text/plain": [
       "<Figure size 432x288 with 1 Axes>"
      ]
     },
     "metadata": {
      "needs_background": "light"
     },
     "output_type": "display_data"
    }
   ],
   "source": [
    "plotGantt(jobMatrix,jobOrder)"
   ]
  },
  {
   "cell_type": "code",
   "execution_count": null,
   "metadata": {},
   "outputs": [],
   "source": []
  }
 ],
 "metadata": {
  "kernelspec": {
   "display_name": "Python 3",
   "language": "python",
   "name": "python3"
  },
  "language_info": {
   "codemirror_mode": {
    "name": "ipython",
    "version": 3
   },
   "file_extension": ".py",
   "mimetype": "text/x-python",
   "name": "python",
   "nbconvert_exporter": "python",
   "pygments_lexer": "ipython3",
   "version": "3.7.2"
  },
  "varInspector": {
   "cols": {
    "lenName": 16,
    "lenType": 16,
    "lenVar": 40
   },
   "kernels_config": {
    "python": {
     "delete_cmd_postfix": "",
     "delete_cmd_prefix": "del ",
     "library": "var_list.py",
     "varRefreshCmd": "print(var_dic_list())"
    },
    "r": {
     "delete_cmd_postfix": ") ",
     "delete_cmd_prefix": "rm(",
     "library": "var_list.r",
     "varRefreshCmd": "cat(var_dic_list()) "
    }
   },
   "position": {
    "height": "181px",
    "left": "996px",
    "right": "20px",
    "top": "120px",
    "width": "350px"
   },
   "types_to_exclude": [
    "module",
    "function",
    "builtin_function_or_method",
    "instance",
    "_Feature"
   ],
   "window_display": false
  }
 },
 "nbformat": 4,
 "nbformat_minor": 2
}
